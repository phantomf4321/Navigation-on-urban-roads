{
  "nbformat": 4,
  "nbformat_minor": 0,
  "metadata": {
    "colab": {
      "provenance": [],
      "authorship_tag": "ABX9TyNZisZRQ0RMsgZ9x9PGZtL+",
      "include_colab_link": true
    },
    "kernelspec": {
      "name": "python3",
      "display_name": "Python 3"
    },
    "language_info": {
      "name": "python"
    }
  },
  "cells": [
    {
      "cell_type": "markdown",
      "metadata": {
        "id": "view-in-github",
        "colab_type": "text"
      },
      "source": [
        "<a href=\"https://colab.research.google.com/github/phantomf4321/Navigation-on-urban-roads/blob/main/project.ipynb\" target=\"_parent\"><img src=\"https://colab.research.google.com/assets/colab-badge.svg\" alt=\"Open In Colab\"/></a>"
      ]
    },
    {
      "cell_type": "markdown",
      "source": [
        "setup\n",
        "\n",
        "Install requirements:\n",
        "\n",
        "Other requirements are installed and run on the notebook by default"
      ],
      "metadata": {
        "id": "2jaLKfisJFuO"
      }
    },
    {
      "cell_type": "code",
      "source": [
        "pip install openrouteservice"
      ],
      "metadata": {
        "colab": {
          "base_uri": "https://localhost:8080/"
        },
        "id": "pjzPOukGJJ_4",
        "outputId": "be056edf-4055-4a59-bb9c-b41b4593c5a2"
      },
      "execution_count": null,
      "outputs": [
        {
          "output_type": "stream",
          "name": "stdout",
          "text": [
            "Collecting openrouteservice\n",
            "  Downloading openrouteservice-2.3.3-py3-none-any.whl (33 kB)\n",
            "Requirement already satisfied: requests>=2.0 in /usr/local/lib/python3.10/dist-packages (from openrouteservice) (2.31.0)\n",
            "Requirement already satisfied: charset-normalizer<4,>=2 in /usr/local/lib/python3.10/dist-packages (from requests>=2.0->openrouteservice) (3.2.0)\n",
            "Requirement already satisfied: idna<4,>=2.5 in /usr/local/lib/python3.10/dist-packages (from requests>=2.0->openrouteservice) (3.4)\n",
            "Requirement already satisfied: urllib3<3,>=1.21.1 in /usr/local/lib/python3.10/dist-packages (from requests>=2.0->openrouteservice) (2.0.4)\n",
            "Requirement already satisfied: certifi>=2017.4.17 in /usr/local/lib/python3.10/dist-packages (from requests>=2.0->openrouteservice) (2023.7.22)\n",
            "Installing collected packages: openrouteservice\n",
            "Successfully installed openrouteservice-2.3.3\n"
          ]
        }
      ]
    },
    {
      "cell_type": "code",
      "source": [
        "import openrouteservice as ors\n",
        "import folium"
      ],
      "metadata": {
        "id": "vrxu14z7KJxd"
      },
      "execution_count": null,
      "outputs": []
    },
    {
      "cell_type": "code",
      "source": [
        "client = ors.Client(key='')"
      ],
      "metadata": {
        "id": "j28mDkHWK_g3"
      },
      "execution_count": null,
      "outputs": []
    },
    {
      "cell_type": "code",
      "source": [
        "import operator\n",
        "from functools import reduce"
      ],
      "metadata": {
        "id": "fh6PEf3YMzUa"
      },
      "execution_count": null,
      "outputs": []
    },
    {
      "cell_type": "code",
      "source": [
        "m = folium.Map(location=list(reversed([59.51120108401389, 36.31167174706367])), zoom_start=13)\n",
        "\n",
        "# white house to the pentagon\n",
        "coords = [[59.51120108401389, 36.31167174706367], [59.61310468013571, 36.291125254657985]]\n",
        "\n",
        "route = client.directions(coordinates=coords,\n",
        "                          profile='foot-walking',\n",
        "                          format='geojson')\n",
        "\n",
        "waypoints = list(dict.fromkeys(reduce(operator.concat, list(map(lambda step: step['way_points'], route['features'][0]['properties']['segments'][0]['steps'])))))\n",
        "\n",
        "folium.PolyLine(locations=[list(reversed(coord)) for coord in route['features'][0]['geometry']['coordinates']], color=\"blue\").add_to(m)\n",
        "\n",
        "folium.PolyLine(locations=[list(reversed(route['features'][0]['geometry']['coordinates'][index])) for index in waypoints], color=\"red\").add_to(m)\n"
      ],
      "metadata": {
        "id": "VYXbQcbXMUA7",
        "colab": {
          "base_uri": "https://localhost:8080/"
        },
        "outputId": "1a829162-d99d-4a3c-f67f-0f7f61bb5d43"
      },
      "execution_count": null,
      "outputs": [
        {
          "output_type": "execute_result",
          "data": {
            "text/plain": [
              "<folium.vector_layers.PolyLine at 0x797fecb84670>"
            ]
          },
          "metadata": {},
          "execution_count": 31
        }
      ]
    },
    {
      "cell_type": "code",
      "source": [
        "m"
      ],
      "metadata": {
        "colab": {
          "base_uri": "https://localhost:8080/",
          "height": 735
        },
        "id": "PJCXj09hM5xF",
        "outputId": "f34686b3-2835-4f0e-ff84-96f93aadf4f4"
      },
      "execution_count": null,
      "outputs": [
        {
          "output_type": "execute_result",
          "data": {
            "text/plain": [
              "<folium.folium.Map at 0x797fecbcf640>"
            ],
            "text/html": [
              "<div style=\"width:100%;\"><div style=\"position:relative;width:100%;height:0;padding-bottom:60%;\"><span style=\"color:#565656\">Make this Notebook Trusted to load map: File -> Trust Notebook</span><iframe srcdoc=\"&lt;!DOCTYPE html&gt;\n",
              "&lt;html&gt;\n",
              "&lt;head&gt;\n",
              "    \n",
              "    &lt;meta http-equiv=&quot;content-type&quot; content=&quot;text/html; charset=UTF-8&quot; /&gt;\n",
              "    \n",
              "        &lt;script&gt;\n",
              "            L_NO_TOUCH = false;\n",
              "            L_DISABLE_3D = false;\n",
              "        &lt;/script&gt;\n",
              "    \n",
              "    &lt;style&gt;html, body {width: 100%;height: 100%;margin: 0;padding: 0;}&lt;/style&gt;\n",
              "    &lt;style&gt;#map {position:absolute;top:0;bottom:0;right:0;left:0;}&lt;/style&gt;\n",
              "    &lt;script src=&quot;https://cdn.jsdelivr.net/npm/leaflet@1.9.3/dist/leaflet.js&quot;&gt;&lt;/script&gt;\n",
              "    &lt;script src=&quot;https://code.jquery.com/jquery-1.12.4.min.js&quot;&gt;&lt;/script&gt;\n",
              "    &lt;script src=&quot;https://cdn.jsdelivr.net/npm/bootstrap@5.2.2/dist/js/bootstrap.bundle.min.js&quot;&gt;&lt;/script&gt;\n",
              "    &lt;script src=&quot;https://cdnjs.cloudflare.com/ajax/libs/Leaflet.awesome-markers/2.0.2/leaflet.awesome-markers.js&quot;&gt;&lt;/script&gt;\n",
              "    &lt;link rel=&quot;stylesheet&quot; href=&quot;https://cdn.jsdelivr.net/npm/leaflet@1.9.3/dist/leaflet.css&quot;/&gt;\n",
              "    &lt;link rel=&quot;stylesheet&quot; href=&quot;https://cdn.jsdelivr.net/npm/bootstrap@5.2.2/dist/css/bootstrap.min.css&quot;/&gt;\n",
              "    &lt;link rel=&quot;stylesheet&quot; href=&quot;https://netdna.bootstrapcdn.com/bootstrap/3.0.0/css/bootstrap.min.css&quot;/&gt;\n",
              "    &lt;link rel=&quot;stylesheet&quot; href=&quot;https://cdn.jsdelivr.net/npm/@fortawesome/fontawesome-free@6.2.0/css/all.min.css&quot;/&gt;\n",
              "    &lt;link rel=&quot;stylesheet&quot; href=&quot;https://cdnjs.cloudflare.com/ajax/libs/Leaflet.awesome-markers/2.0.2/leaflet.awesome-markers.css&quot;/&gt;\n",
              "    &lt;link rel=&quot;stylesheet&quot; href=&quot;https://cdn.jsdelivr.net/gh/python-visualization/folium/folium/templates/leaflet.awesome.rotate.min.css&quot;/&gt;\n",
              "    \n",
              "            &lt;meta name=&quot;viewport&quot; content=&quot;width=device-width,\n",
              "                initial-scale=1.0, maximum-scale=1.0, user-scalable=no&quot; /&gt;\n",
              "            &lt;style&gt;\n",
              "                #map_deb6c65e422c88e3b8d2e74aefee113a {\n",
              "                    position: relative;\n",
              "                    width: 100.0%;\n",
              "                    height: 100.0%;\n",
              "                    left: 0.0%;\n",
              "                    top: 0.0%;\n",
              "                }\n",
              "                .leaflet-container { font-size: 1rem; }\n",
              "            &lt;/style&gt;\n",
              "        \n",
              "&lt;/head&gt;\n",
              "&lt;body&gt;\n",
              "    \n",
              "    \n",
              "            &lt;div class=&quot;folium-map&quot; id=&quot;map_deb6c65e422c88e3b8d2e74aefee113a&quot; &gt;&lt;/div&gt;\n",
              "        \n",
              "&lt;/body&gt;\n",
              "&lt;script&gt;\n",
              "    \n",
              "    \n",
              "            var map_deb6c65e422c88e3b8d2e74aefee113a = L.map(\n",
              "                &quot;map_deb6c65e422c88e3b8d2e74aefee113a&quot;,\n",
              "                {\n",
              "                    center: [36.31167174706367, 59.51120108401389],\n",
              "                    crs: L.CRS.EPSG3857,\n",
              "                    zoom: 13,\n",
              "                    zoomControl: true,\n",
              "                    preferCanvas: false,\n",
              "                }\n",
              "            );\n",
              "\n",
              "            \n",
              "\n",
              "        \n",
              "    \n",
              "            var tile_layer_ad06439eae371f1e88ab8d047b5857fb = L.tileLayer(\n",
              "                &quot;https://{s}.tile.openstreetmap.org/{z}/{x}/{y}.png&quot;,\n",
              "                {&quot;attribution&quot;: &quot;Data by \\u0026copy; \\u003ca target=\\&quot;_blank\\&quot; href=\\&quot;http://openstreetmap.org\\&quot;\\u003eOpenStreetMap\\u003c/a\\u003e, under \\u003ca target=\\&quot;_blank\\&quot; href=\\&quot;http://www.openstreetmap.org/copyright\\&quot;\\u003eODbL\\u003c/a\\u003e.&quot;, &quot;detectRetina&quot;: false, &quot;maxNativeZoom&quot;: 18, &quot;maxZoom&quot;: 18, &quot;minZoom&quot;: 0, &quot;noWrap&quot;: false, &quot;opacity&quot;: 1, &quot;subdomains&quot;: &quot;abc&quot;, &quot;tms&quot;: false}\n",
              "            ).addTo(map_deb6c65e422c88e3b8d2e74aefee113a);\n",
              "        \n",
              "    \n",
              "            var poly_line_5064944d5f9683d444bf26c8f4c8c19d = L.polyline(\n",
              "                [[36.31167, 59.511203], [36.311696, 59.511233], [36.311703, 59.511274], [36.311402, 59.511541], [36.311461, 59.511641], [36.311541, 59.511868], [36.311638, 59.511826], [36.311662, 59.511871], [36.31171, 59.511961], [36.311848, 59.512221], [36.311874, 59.512446], [36.31186, 59.512534], [36.311821, 59.512614], [36.3115, 59.512973], [36.311423, 59.513049], [36.31214, 59.514117], [36.312385, 59.514481], [36.312499, 59.51465], [36.312606, 59.514952], [36.31259, 59.515022], [36.312605, 59.515166], [36.31265, 59.515252], [36.31275, 59.515328], [36.312825, 59.515339], [36.312899, 59.515319], [36.313074, 59.515497], [36.31302, 59.51555], [36.313491, 59.516257], [36.313701, 59.516573], [36.314057, 59.517105], [36.314427, 59.517658], [36.314804, 59.518207], [36.31509, 59.518639], [36.315524, 59.519303], [36.315828, 59.519735], [36.315866, 59.519798], [36.316512, 59.52075], [36.317176, 59.521763], [36.317253, 59.521868], [36.317414, 59.522111], [36.317587, 59.522342], [36.318088, 59.523093], [36.318078, 59.52312], [36.317954, 59.523463], [36.318068, 59.523497], [36.318216, 59.523495], [36.318315, 59.523475], [36.318343, 59.52345], [36.318832, 59.524162], [36.319232, 59.524777], [36.319466, 59.525131], [36.31951, 59.525315], [36.319465, 59.525493], [36.319435, 59.525589], [36.318875, 59.527339], [36.318856, 59.527402], [36.318808, 59.527571], [36.318785, 59.527647], [36.318539, 59.528453], [36.317257, 59.532632], [36.317163, 59.532946], [36.317105, 59.532995], [36.316898, 59.533627], [36.316735, 59.534126], [36.316773, 59.53425], [36.316528, 59.535033], [36.316626, 59.535085], [36.317241, 59.53539], [36.317333, 59.535436], [36.317494, 59.535519], [36.317446, 59.535693], [36.317537, 59.535753], [36.317996, 59.535739], [36.318106, 59.536371], [36.318113, 59.536412], [36.318287, 59.537244], [36.31824, 59.537409], [36.318074, 59.537598], [36.318126, 59.53771], [36.318167, 59.537857], [36.31818, 59.538102], [36.318178, 59.538129], [36.318219, 59.538237], [36.318581, 59.538733], [36.318526, 59.538888], [36.318492, 59.539068], [36.318478, 59.539518], [36.318485, 59.539712], [36.318419, 59.540119], [36.318406, 59.540294], [36.318339, 59.540508], [36.318312, 59.540812], [36.318911, 59.540958], [36.319407, 59.540611], [36.319466, 59.540812], [36.319479, 59.540974], [36.319461, 59.541073], [36.319429, 59.541301], [36.319408, 59.541419], [36.319128, 59.541345], [36.319122, 59.541389], [36.319261, 59.541424], [36.319147, 59.54212], [36.319367, 59.542175], [36.31951, 59.54218], [36.319851, 59.542288], [36.319684, 59.543202], [36.319589, 59.54372], [36.319575, 59.543798], [36.319495, 59.544238], [36.319373, 59.544904], [36.319276, 59.54545], [36.319132, 59.546225], [36.319025, 59.546197], [36.318985, 59.546735], [36.318945, 59.547272], [36.318935, 59.54757], [36.318924, 59.547886], [36.318886, 59.54845], [36.318848, 59.549014], [36.318808, 59.549656], [36.318767, 59.550298], [36.318729, 59.550915], [36.318686, 59.551596], [36.318597, 59.55302], [36.318515, 59.554477], [36.318018, 59.554431], [36.317899, 59.554419], [36.317354, 59.554367], [36.317289, 59.555222], [36.317246, 59.555416], [36.31717, 59.5556], [36.317054, 59.555789], [36.315905, 59.557458], [36.315623, 59.55788], [36.314785, 59.559104], [36.314582, 59.5593], [36.314445, 59.559498], [36.314815, 59.559886], [36.314741, 59.559974], [36.314641, 59.560116], [36.314553, 59.560221], [36.314627, 59.560304], [36.31428, 59.560813], [36.314195, 59.560889], [36.313014, 59.562622], [36.312674, 59.562257], [36.312518, 59.562368], [36.312388, 59.56253], [36.312281, 59.562733], [36.311801, 59.56248], [36.311341, 59.562821], [36.311031, 59.563051], [36.31081, 59.563215], [36.310668, 59.563696], [36.310582, 59.563986], [36.310237, 59.56502], [36.309934, 59.565921], [36.309665, 59.566586], [36.309468, 59.566957], [36.309185, 59.566768], [36.30887, 59.56754], [36.308953, 59.567589], [36.308891, 59.567761], [36.308798, 59.567708], [36.308717, 59.567906], [36.30858, 59.56824], [36.308354, 59.568792], [36.307964, 59.568686], [36.30771, 59.568544], [36.307556, 59.568995], [36.306907, 59.570898], [36.306483, 59.570692], [36.306337, 59.570622], [36.305957, 59.57045], [36.305922, 59.570432], [36.305473, 59.570205], [36.305331, 59.570133], [36.304722, 59.571889], [36.304304, 59.573016], [36.303832, 59.57436], [36.303356, 59.575719], [36.303905, 59.576001], [36.303524, 59.577061], [36.303529, 59.57719], [36.303487, 59.577308], [36.303441, 59.57743], [36.303404, 59.577532], [36.303336, 59.577582], [36.302943, 59.57867], [36.302462, 59.580034], [36.301986, 59.581368], [36.301506, 59.582711], [36.301464, 59.582689], [36.300687, 59.583251], [36.300337, 59.583509], [36.298185, 59.585104], [36.297308, 59.585659], [36.297664, 59.586269], [36.297436, 59.586432], [36.297079, 59.5867], [36.296796, 59.586906], [36.296472, 59.587141], [36.295958, 59.587521], [36.295993, 59.587594], [36.295876, 59.58768], [36.296267, 59.588462], [36.296337, 59.588603], [36.295781, 59.589204], [36.295581, 59.58933], [36.295395, 59.58957], [36.294523, 59.590204], [36.294423, 59.590198], [36.292983, 59.591083], [36.293099, 59.591468], [36.293902, 59.593687], [36.29401, 59.593985], [36.294153, 59.59438], [36.29444, 59.59526], [36.29478, 59.59623], [36.294689, 59.596321], [36.294626, 59.596367], [36.293751, 59.597231], [36.293696, 59.597285], [36.293497, 59.597483], [36.293909, 59.598009], [36.29368, 59.598289], [36.293902, 59.598561], [36.293655, 59.598898], [36.292651, 59.600248], [36.292307, 59.600712], [36.292, 59.601125], [36.291614, 59.601647], [36.291692, 59.60174], [36.291595, 59.601871], [36.29147, 59.602047], [36.291586, 59.60213], [36.291702, 59.6022], [36.291663, 59.602274], [36.291602, 59.602325], [36.291546, 59.602428], [36.291326, 59.604285], [36.291106, 59.606159], [36.291117, 59.606274], [36.291485, 59.606741], [36.292015, 59.607449], [36.293803, 59.609836], [36.293886, 59.609891], [36.293987, 59.609911], [36.293981, 59.609961], [36.293971, 59.609988], [36.293918, 59.610043], [36.29386, 59.610103], [36.293757, 59.610208], [36.293684, 59.610186], [36.293611, 59.610179], [36.293592, 59.610301], [36.293547, 59.610366], [36.292786, 59.611245], [36.292099, 59.611947], [36.291955, 59.612091], [36.291686, 59.612391], [36.291321, 59.612774], [36.291403, 59.612843], [36.291295, 59.612889], [36.29111, 59.613082]],\n",
              "                {&quot;bubblingMouseEvents&quot;: true, &quot;color&quot;: &quot;blue&quot;, &quot;dashArray&quot;: null, &quot;dashOffset&quot;: null, &quot;fill&quot;: false, &quot;fillColor&quot;: &quot;blue&quot;, &quot;fillOpacity&quot;: 0.2, &quot;fillRule&quot;: &quot;evenodd&quot;, &quot;lineCap&quot;: &quot;round&quot;, &quot;lineJoin&quot;: &quot;round&quot;, &quot;noClip&quot;: false, &quot;opacity&quot;: 1.0, &quot;smoothFactor&quot;: 1.0, &quot;stroke&quot;: true, &quot;weight&quot;: 3}\n",
              "            ).addTo(map_deb6c65e422c88e3b8d2e74aefee113a);\n",
              "        \n",
              "    \n",
              "            var poly_line_2a73184b270a1f1c38f15ec98a838624 = L.polyline(\n",
              "                [[36.31167, 59.511203], [36.311402, 59.511541], [36.311541, 59.511868], [36.311638, 59.511826], [36.311848, 59.512221], [36.312606, 59.514952], [36.313074, 59.515497], [36.31302, 59.51555], [36.315828, 59.519735], [36.318088, 59.523093], [36.317954, 59.523463], [36.317105, 59.532995], [36.316735, 59.534126], [36.316528, 59.535033], [36.317494, 59.535519], [36.317996, 59.535739], [36.318287, 59.537244], [36.318074, 59.537598], [36.318581, 59.538733], [36.318312, 59.540812], [36.318911, 59.540958], [36.319407, 59.540611], [36.319408, 59.541419], [36.319147, 59.54212], [36.31951, 59.54218], [36.319851, 59.542288], [36.319132, 59.546225], [36.319025, 59.546197], [36.318515, 59.554477], [36.317354, 59.554367], [36.314445, 59.559498], [36.314815, 59.559886], [36.314553, 59.560221], [36.314627, 59.560304], [36.313014, 59.562622], [36.312674, 59.562257], [36.312281, 59.562733], [36.311801, 59.56248], [36.31081, 59.563215], [36.309185, 59.566768], [36.30887, 59.56754], [36.308953, 59.567589], [36.308891, 59.567761], [36.308798, 59.567708], [36.308354, 59.568792], [36.30771, 59.568544], [36.306907, 59.570898], [36.305331, 59.570133], [36.303356, 59.575719], [36.303905, 59.576001], [36.303529, 59.57719], [36.303404, 59.577532], [36.301506, 59.582711], [36.301464, 59.582689], [36.297664, 59.586269], [36.295958, 59.587521], [36.295993, 59.587594], [36.295876, 59.58768], [36.292983, 59.591083], [36.29478, 59.59623], [36.293497, 59.597483], [36.293902, 59.598561], [36.291614, 59.601647], [36.291692, 59.60174], [36.29147, 59.602047], [36.291702, 59.6022], [36.293987, 59.609911], [36.293757, 59.610208], [36.293611, 59.610179], [36.291321, 59.612774], [36.291403, 59.612843], [36.29111, 59.613082]],\n",
              "                {&quot;bubblingMouseEvents&quot;: true, &quot;color&quot;: &quot;red&quot;, &quot;dashArray&quot;: null, &quot;dashOffset&quot;: null, &quot;fill&quot;: false, &quot;fillColor&quot;: &quot;red&quot;, &quot;fillOpacity&quot;: 0.2, &quot;fillRule&quot;: &quot;evenodd&quot;, &quot;lineCap&quot;: &quot;round&quot;, &quot;lineJoin&quot;: &quot;round&quot;, &quot;noClip&quot;: false, &quot;opacity&quot;: 1.0, &quot;smoothFactor&quot;: 1.0, &quot;stroke&quot;: true, &quot;weight&quot;: 3}\n",
              "            ).addTo(map_deb6c65e422c88e3b8d2e74aefee113a);\n",
              "        \n",
              "&lt;/script&gt;\n",
              "&lt;/html&gt;\" style=\"position:absolute;width:100%;height:100%;left:0;top:0;border:none !important;\" allowfullscreen webkitallowfullscreen mozallowfullscreen></iframe></div></div>"
            ]
          },
          "metadata": {},
          "execution_count": 32
        }
      ]
    }
  ]
}